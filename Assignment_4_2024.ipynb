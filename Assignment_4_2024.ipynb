{
  "cells": [
    {
      "cell_type": "markdown",
      "id": "43554d37",
      "metadata": {
        "id": "43554d37"
      },
      "source": [
        "# Turing Machine and Deep Learning\n",
        "\n",
        "## Assignment 4 -- Neural Networks\n",
        "\n",
        "This notebook is meant for you to review and reflect on the content of Lecture 4, which was mainly about neural networks. In particular, we'll focus on aspects that were only briefly mentioned in class in order for you to get a better understanding of it.\n",
        "\n",
        "### Handing in your Assignment\n",
        "\n",
        "Git is an invaluable resource to researchers and developers, and thus for this course, all course material will be (additionally) shared on GitHub. Though there is a tiny bit of a learning curve, this is worth the effort. To hand in your assignment (applicable to all weeks):\n",
        "\n",
        "1. Create a folder called \"Week 4\" and copy this notebook and any other files or data that may be needed.\n",
        "2. Finish the notebook and commit and push regularly. Your final commit before the deadline will be graded."
      ]
    },
    {
      "cell_type": "code",
      "execution_count": 1,
      "id": "52fbab8b",
      "metadata": {
        "id": "52fbab8b"
      },
      "outputs": [],
      "source": [
        "# load common libraries\n",
        "import numpy as np                 # maths\n",
        "import matplotlib.pyplot as plt    # plotting\n",
        "import pandas as pd                # data manipulation\n",
        "from tqdm import tqdm              # loading bar\n",
        "from time import perf_counter      # timer\n",
        "import tensorflow as tf            # NNs and associated\n",
        "from tensorflow import keras       # NNs and associated"
      ]
    },
    {
      "cell_type": "markdown",
      "id": "bf4c3a0a",
      "metadata": {
        "id": "bf4c3a0a"
      },
      "source": [
        "# Q1 CNNs\n",
        "\n",
        "In the lecture, we saw some code that implemented MLPs and CNNs for the task of image classification on CIFAR10. However, we skipped over some details of what CNNs actually do.\n",
        "\n",
        "A CNN works by automatically learning and extracting meaningful patterns, features, and hierarchies from the input data in the following way:\n",
        "\n",
        "1. **Convolution**: A CNN applies (multiple) small filters (kernels) to an input image, performing element-wise multiplications and sums to extract features like edges, corners, and textures. We also did this computation in person during class. These kernels may be a matrix (what we saw in the lecture), or even a stack of matrices (e.g. for RGB images). I'd recommend watching this [3Blue1Brown video](https://www.youtube.com/watch?v=KuXjwB4LzSA&pp=ygUTY29udm9sdXRpb25zIGluIGNubg%3D%3D) and this [DeepLearning.AI](https://www.youtube.com/watch?v=KTB_OFoAQcc) video for reference.\n",
        "2. **Non-linearity**: Non-linear activation functions (e.g., ReLU) are applied to introduce complexity and allows the capture of more abstract representations.\n",
        "3. **Pooling**: Pooling operations are used to downsample the spatial dimensions of feature maps while preserving the most important information. In both cases, a pooling window or filter moves across the input feature map, and a single value is selected or computed within the window based on the pooling operation. Pooling helps reduce the computational complexity of the network and introduces some translation invariance. There are a few types of pooling, but most commonly used are max-pooling and average-pooling.\n",
        "4. **Hierarchy**: Convolution and pooling operations are repeated to create a hierarchy of feature extraction layers, learning more complex and high-level features.\n",
        "5. **Fully Connected Layers**: Flattened features are passed through fully connected layers, similar to a traditional MLP, for classification or regression.\n",
        "6. **Training**: Parameters are adjusted using backpropagation and optimization algorithms to minimize the difference between predictions and true labels.\n",
        "\n",
        "By leveraging convolution, non-linearity, and hierarchical feature extraction, CNNs can automatically learn and recognize intricate patterns and structures in visual data, making them well-suited for tasks like image classification and object detection.\n",
        "\n",
        "You can think of the convolution operation with a kernel over an image as outputting a new modified image, called a feature map. When applying convolutions over feature maps, the size of the output feature map (in each dimension) can be computed by:\n",
        "\n",
        "$$o = \\frac{i - k + 2 p}{s}+1$$\n",
        "\n",
        "where the hyperparameters of the convolution are:\n",
        "- $i$: input_size is the size (height or width) of the input feature map.\n",
        "- $k$: kernel_size is the size (height or width) of the convolutional kernel/filter.\n",
        "- $p$: padding is the number of pixels added to each side of the input feature map (if applicable) (default 0)\n",
        "- $s$: stride is the step size or the number of pixels the kernel moves at each step (default 1)\n",
        "\n",
        "The output size of a pooling operation can also be defined as:\n",
        "$$o = \\frac{i - p}{s} + 1$$\n",
        "\n",
        "**Q1.1** Thus, starting with a 28x28 pixel image (e.g. MNIST), write a series of kernel sizes to use in convolutions (optionally including a pooling operation if you want to try it out, and optionally padding and stride) in order to get it down to an image size of 6x6. There are several correct answers possible here."
      ]
    },
    {
      "cell_type": "markdown",
      "id": "92986362",
      "metadata": {
        "id": "92986362"
      },
      "source": [
        "**Your answer here**"
      ]
    },
    {
      "cell_type": "markdown",
      "id": "b5510986",
      "metadata": {
        "id": "b5510986"
      },
      "source": [
        "**Q1.2** Now, let's try out your strategy in code. Implement the convolutions you defined above to perform classification over MNIST digits. Note that most of the code is written for you, but be mindful of the steps that are written. Note that you need to choose the number of kernals as well as the size at each layer. The input shape of your next layer is the output shape you computed above and the number of kernels you chose for the previous layer ``input_shape=(w,h,k)``."
      ]
    },
    {
      "cell_type": "code",
      "source": [],
      "metadata": {
        "id": "-MehZTK7C9jH"
      },
      "id": "-MehZTK7C9jH",
      "execution_count": null,
      "outputs": []
    },
    {
      "cell_type": "code",
      "execution_count": 2,
      "id": "eae273e0",
      "metadata": {
        "id": "eae273e0",
        "colab": {
          "base_uri": "https://localhost:8080/"
        },
        "outputId": "701a22c7-603f-44d6-e4f4-9c5aa7bc9826"
      },
      "outputs": [
        {
          "output_type": "stream",
          "name": "stdout",
          "text": [
            "Downloading data from https://storage.googleapis.com/tensorflow/tf-keras-datasets/mnist.npz\n",
            "11490434/11490434 [==============================] - 0s 0us/step\n"
          ]
        }
      ],
      "source": [
        "# Load the MNIST dataset\n",
        "(x_train, y_train), (x_test, y_test) = keras.datasets.mnist.load_data()\n",
        "\n",
        "# Preprocess the data\n",
        "x_train = x_train.reshape(-1, 28, 28, 1).astype('float32') / 255.0\n",
        "x_test = x_test.reshape(-1, 28, 28, 1).astype('float32') / 255.0\n",
        "\n",
        "# Convert the labels to one-hot encoding\n",
        "y_train = keras.utils.to_categorical(y_train)\n",
        "y_test = keras.utils.to_categorical(y_test)"
      ]
    },
    {
      "cell_type": "code",
      "execution_count": 5,
      "id": "efd251c3",
      "metadata": {
        "id": "efd251c3",
        "colab": {
          "base_uri": "https://localhost:8080/"
        },
        "outputId": "ebe7ca5c-8b2d-4f71-82fd-d11a57fca61c"
      },
      "outputs": [
        {
          "output_type": "stream",
          "name": "stdout",
          "text": [
            "Epoch 1/10\n",
            "375/375 [==============================] - 46s 119ms/step - loss: 0.1724 - accuracy: 0.9493 - val_loss: 0.0684 - val_accuracy: 0.9799\n",
            "Epoch 2/10\n",
            "375/375 [==============================] - 45s 121ms/step - loss: 0.0501 - accuracy: 0.9851 - val_loss: 0.0651 - val_accuracy: 0.9797\n",
            "Epoch 3/10\n",
            "375/375 [==============================] - 45s 119ms/step - loss: 0.0298 - accuracy: 0.9910 - val_loss: 0.0591 - val_accuracy: 0.9825\n",
            "Epoch 4/10\n",
            "375/375 [==============================] - 61s 162ms/step - loss: 0.0174 - accuracy: 0.9941 - val_loss: 0.0567 - val_accuracy: 0.9850\n",
            "Epoch 5/10\n",
            "375/375 [==============================] - 47s 125ms/step - loss: 0.0118 - accuracy: 0.9962 - val_loss: 0.0607 - val_accuracy: 0.9847\n",
            "Epoch 6/10\n",
            "375/375 [==============================] - 60s 159ms/step - loss: 0.0081 - accuracy: 0.9973 - val_loss: 0.0586 - val_accuracy: 0.9855\n",
            "Epoch 7/10\n",
            "375/375 [==============================] - 44s 118ms/step - loss: 0.0073 - accuracy: 0.9976 - val_loss: 0.0621 - val_accuracy: 0.9849\n",
            "Epoch 8/10\n",
            "375/375 [==============================] - 44s 117ms/step - loss: 0.0040 - accuracy: 0.9990 - val_loss: 0.0605 - val_accuracy: 0.9858\n",
            "Epoch 9/10\n",
            "375/375 [==============================] - 43s 114ms/step - loss: 0.0064 - accuracy: 0.9979 - val_loss: 0.0686 - val_accuracy: 0.9852\n",
            "Epoch 10/10\n",
            "375/375 [==============================] - 45s 119ms/step - loss: 0.0037 - accuracy: 0.9989 - val_loss: 0.0597 - val_accuracy: 0.9862\n",
            "313/313 [==============================] - 3s 9ms/step - loss: 0.0512 - accuracy: 0.9867\n",
            "Test accuracy: 0.9866999983787537\n"
          ]
        }
      ],
      "source": [
        "# TODO: Complete this cell\n",
        "\n",
        "# A Conv2D layer performs 2D convolution -- the same as we saw in class.\n",
        "# The main inputs to this class are the number of kernels, the size of each kernel,\n",
        "# the non-linear activation function and the input shape. Optionally, you can define a padding\n",
        "# and/or a stride. Use it like this:\n",
        "# keras.layers.Conv2D(<n_kernels>,\n",
        "#                     kernel_size=<tuple>,\n",
        "#                     activation=<string>,\n",
        "#                     input_shape=<tuple>,\n",
        "#                     padding=<string>,\n",
        "#                     stride=<int/tuple>)\n",
        "# You can read the documentation here: https://keras.io/api/layers/convolution_layers/convolution2d/\n",
        "\n",
        "# Build the model\n",
        "model = keras.Sequential([\n",
        "    keras.layers.Conv2D(32, kernel_size=5, activation='relu', input_shape=(28, 28, 1)), # i'll give you the first shape for free\n",
        "\n",
        "    keras.layers.Flatten(),                            # flatten to dense layer for classification\n",
        "    keras.layers.Dense(128, activation='relu'),           # add dense layer (add more if you want)\n",
        "    keras.layers.Dense(10, activation='softmax')      # final dense layer (how many categories are there?).\n",
        "                                                       # softmax for probability distribution output\n",
        "])\n",
        "\n",
        "# Compile the model\n",
        "model.compile(optimizer='adam', loss='categorical_crossentropy', metrics=['accuracy'])\n",
        "\n",
        "# Train the model: choose batch size and number of epochs\n",
        "history = model.fit(x_train, y_train, batch_size=128, epochs=10, validation_split=0.2)\n",
        "\n",
        "# Evaluate the model\n",
        "test_loss, test_acc = model.evaluate(x_test, y_test)\n",
        "print('Test accuracy:', test_acc)"
      ]
    },
    {
      "cell_type": "markdown",
      "id": "d23b2f4c",
      "metadata": {
        "id": "d23b2f4c"
      },
      "source": [
        "**Q1.3** Plot the train and validation losses and and accuracies. Do not forget to add labels What can you say about the model over/underfitting? Would you continue training it, or stop earlier? Why?"
      ]
    },
    {
      "cell_type": "markdown",
      "id": "a62559dd",
      "metadata": {
        "id": "a62559dd"
      },
      "source": [
        "**Your text answer**"
      ]
    },
    {
      "cell_type": "code",
      "execution_count": 7,
      "id": "5dd24bce",
      "metadata": {
        "id": "5dd24bce",
        "colab": {
          "base_uri": "https://localhost:8080/",
          "height": 927
        },
        "outputId": "8541339c-d6d4-4f03-ece0-7f252995e972"
      },
      "outputs": [
        {
          "output_type": "display_data",
          "data": {
            "text/plain": [
              "<Figure size 640x480 with 1 Axes>"
            ],
            "image/png": "[encoded data removed]"
          },
          "metadata": {}
        },
        {
          "output_type": "display_data",
          "data": {
            "text/plain": [
              "<Figure size 640x480 with 1 Axes>"
            ],
            "image/png": "[encoded data removed]"
          },
          "metadata": {}
        }
      ],
      "source": [
        "# plot losses\n",
        "plt.plot(history.history[\"loss\"], label=\"Training Loss\") # plot loss\n",
        "plt.plot(history.history[\"val_loss\"], label=\"Validation Loss\") # plot val_loss\n",
        "plt.ylabel(\"Loss\")\n",
        "plt.xlabel(\"Epochs\") # x-axis=epochs\n",
        "plt.grid()\n",
        "plt.legend()\n",
        "plt.title(\"Training and Validation Losses\")\n",
        "plt.show()\n",
        "\n",
        "# plot accuracies\n",
        "plt.plot(history.history[\"accuracy\"], label=\"Training Accuracy\")\n",
        "plt.plot(history.history[\"val_accuracy\"], label=\"Validation Accuracy\")\n",
        "plt.ylabel(\"Accuracy\")\n",
        "plt.xlabel(\"Epochs\")\n",
        "plt.grid()\n",
        "plt.legend()\n",
        "plt.title(\"Training and Validation Accuracies\")\n",
        "plt.show()"
      ]
    },
    {
      "cell_type": "markdown",
      "id": "1a6f0d4c",
      "metadata": {
        "id": "1a6f0d4c"
      },
      "source": [
        "# Q2 RNNs\n",
        "\n",
        "An RNN (Recurrent Neural Network) is a type of artificial neural network that is particularly effective in processing sequential data. Unlike feedforward neural networks, which process inputs independently, RNNs have connections that allow information to flow in cycles. This cyclic connectivity enables them to capture temporal dependencies and learn patterns over time. You can find more in these [neural network lecture notes (Jaeger 2023, chapter 4)](https://www.ai.rug.nl/minds/uploads/LN_NN_RUG.pdf). Here is an overview of how RNNs work:\n",
        "\n",
        "- **Recurrent Connections**: RNNs have recurrent connections that allow information to be passed from one step to the next in a sequence. At each time step, the RNN takes an input and combines it with the information from the previous step. This feedback loop enables the network to have memory and make predictions based on the context of past inputs.\n",
        "\n",
        "- **Hidden State**: RNNs maintain a hidden state vector that serves as a memory of the network. The hidden state is updated at each time step and contains information about the previous inputs in the sequence. It captures the network's understanding of the sequence up to that point and is used to influence the processing of future inputs.\n",
        "\n",
        "- **Sequence Processing**: RNNs process sequences by iterating through each element one at a time. As the network receives an input at each time step, it updates its hidden state based on the input and the previous hidden state. The updated hidden state is then used to make predictions or generate outputs.\n",
        "\n",
        "- **Long Short-Term Memory (LSTM) and Gated Recurrent Units (GRU)**: LSTMs and GRUs are popular types of RNN architectures that address the vanishing gradient problem and capture long-term dependencies more effectively. These architectures introduce specialized memory cells and gating mechanisms that allow the network to selectively update and forget information.\n",
        "\n",
        "- **Training**: RNNs are typically trained using the backpropagation through time (BPTT) algorithm, which extends backpropagation to handle sequences. The goal is to minimize the difference between the predicted outputs and the true targets by adjusting the network's parameters through gradient descent optimization.\n",
        "\n",
        "- **Applications**: RNNs are well-suited for tasks involving sequential data, such as natural language processing, speech recognition, machine translation, time series analysis, and sentiment analysis. They can effectively model dependencies and capture context in these domains.\n",
        "\n",
        "By leveraging recurrent connections and hidden state information, RNNs excel at processing and understanding sequential data. They are powerful tools for tasks that require temporal modeling and have made significant contributions to the field of deep learning.\n",
        "\n",
        "Here, we'll use LSTMs to regress on the [Air Passengers](https://www.kaggle.com/datasets/chirag19/air-passengers) dataset, providing monthly totals of a US airline passengers from 1949 to 1960."
      ]
    },
    {
      "cell_type": "code",
      "execution_count": 8,
      "id": "30df3ae3",
      "metadata": {
        "id": "30df3ae3",
        "colab": {
          "base_uri": "https://localhost:8080/",
          "height": 382
        },
        "outputId": "47f8dd70-10ed-486f-fdd5-2f0a24ad5553"
      },
      "outputs": [
        {
          "output_type": "error",
          "ename": "FileNotFoundError",
          "evalue": "[Errno 2] No such file or directory: 'AirPassengers.csv'",
          "traceback": [
            "\u001b[0;31m---------------------------------------------------------------------------\u001b[0m",
            "\u001b[0;31mFileNotFoundError\u001b[0m                         Traceback (most recent call last)",
            "\u001b[0;32m<ipython-input-8-863a064743a7>\u001b[0m in \u001b[0;36m<cell line: 5>\u001b[0;34m()\u001b[0m\n\u001b[1;32m      3\u001b[0m \u001b[0;34m\u001b[0m\u001b[0m\n\u001b[1;32m      4\u001b[0m \u001b[0;31m# Load the Air Passengers dataset\u001b[0m\u001b[0;34m\u001b[0m\u001b[0;34m\u001b[0m\u001b[0m\n\u001b[0;32m----> 5\u001b[0;31m \u001b[0mdata\u001b[0m \u001b[0;34m=\u001b[0m \u001b[0mpd\u001b[0m\u001b[0;34m.\u001b[0m\u001b[0mread_csv\u001b[0m\u001b[0;34m(\u001b[0m\u001b[0;34m'AirPassengers.csv'\u001b[0m\u001b[0;34m)\u001b[0m\u001b[0;34m\u001b[0m\u001b[0;34m\u001b[0m\u001b[0m\n\u001b[0m\u001b[1;32m      6\u001b[0m \u001b[0mtime_series\u001b[0m \u001b[0;34m=\u001b[0m \u001b[0mdata\u001b[0m\u001b[0;34m[\u001b[0m\u001b[0;34m'#Passengers'\u001b[0m\u001b[0;34m]\u001b[0m\u001b[0;34m.\u001b[0m\u001b[0mvalues\u001b[0m\u001b[0;34m.\u001b[0m\u001b[0mastype\u001b[0m\u001b[0;34m(\u001b[0m\u001b[0mfloat\u001b[0m\u001b[0;34m)\u001b[0m\u001b[0;34m\u001b[0m\u001b[0;34m\u001b[0m\u001b[0m\n\u001b[1;32m      7\u001b[0m \u001b[0;34m\u001b[0m\u001b[0m\n",
            "\u001b[0;32m/usr/local/lib/python3.10/dist-packages/pandas/util/_decorators.py\u001b[0m in \u001b[0;36mwrapper\u001b[0;34m(*args, **kwargs)\u001b[0m\n\u001b[1;32m    209\u001b[0m                 \u001b[0;32melse\u001b[0m\u001b[0;34m:\u001b[0m\u001b[0;34m\u001b[0m\u001b[0;34m\u001b[0m\u001b[0m\n\u001b[1;32m    210\u001b[0m                     \u001b[0mkwargs\u001b[0m\u001b[0;34m[\u001b[0m\u001b[0mnew_arg_name\u001b[0m\u001b[0;34m]\u001b[0m \u001b[0;34m=\u001b[0m \u001b[0mnew_arg_value\u001b[0m\u001b[0;34m\u001b[0m\u001b[0;34m\u001b[0m\u001b[0m\n\u001b[0;32m--> 211\u001b[0;31m             \u001b[0;32mreturn\u001b[0m \u001b[0mfunc\u001b[0m\u001b[0;34m(\u001b[0m\u001b[0;34m*\u001b[0m\u001b[0margs\u001b[0m\u001b[0;34m,\u001b[0m \u001b[0;34m**\u001b[0m\u001b[0mkwargs\u001b[0m\u001b[0;34m)\u001b[0m\u001b[0;34m\u001b[0m\u001b[0;34m\u001b[0m\u001b[0m\n\u001b[0m\u001b[1;32m    212\u001b[0m \u001b[0;34m\u001b[0m\u001b[0m\n\u001b[1;32m    213\u001b[0m         \u001b[0;32mreturn\u001b[0m \u001b[0mcast\u001b[0m\u001b[0;34m(\u001b[0m\u001b[0mF\u001b[0m\u001b[0;34m,\u001b[0m \u001b[0mwrapper\u001b[0m\u001b[0;34m)\u001b[0m\u001b[0;34m\u001b[0m\u001b[0;34m\u001b[0m\u001b[0m\n",
            "\u001b[0;32m/usr/local/lib/python3.10/dist-packages/pandas/util/_decorators.py\u001b[0m in \u001b[0;36mwrapper\u001b[0;34m(*args, **kwargs)\u001b[0m\n\u001b[1;32m    329\u001b[0m                     \u001b[0mstacklevel\u001b[0m\u001b[0;34m=\u001b[0m\u001b[0mfind_stack_level\u001b[0m\u001b[0;34m(\u001b[0m\u001b[0;34m)\u001b[0m\u001b[0;34m,\u001b[0m\u001b[0;34m\u001b[0m\u001b[0;34m\u001b[0m\u001b[0m\n\u001b[1;32m    330\u001b[0m                 )\n\u001b[0;32m--> 331\u001b[0;31m             \u001b[0;32mreturn\u001b[0m \u001b[0mfunc\u001b[0m\u001b[0;34m(\u001b[0m\u001b[0;34m*\u001b[0m\u001b[0margs\u001b[0m\u001b[0;34m,\u001b[0m \u001b[0;34m**\u001b[0m\u001b[0mkwargs\u001b[0m\u001b[0;34m)\u001b[0m\u001b[0;34m\u001b[0m\u001b[0;34m\u001b[0m\u001b[0m\n\u001b[0m\u001b[1;32m    332\u001b[0m \u001b[0;34m\u001b[0m\u001b[0m\n\u001b[1;32m    333\u001b[0m         \u001b[0;31m# error: \"Callable[[VarArg(Any), KwArg(Any)], Any]\" has no\u001b[0m\u001b[0;34m\u001b[0m\u001b[0;34m\u001b[0m\u001b[0m\n",
            "\u001b[0;32m/usr/local/lib/python3.10/dist-packages/pandas/io/parsers/readers.py\u001b[0m in \u001b[0;36mread_csv\u001b[0;34m(filepath_or_buffer, sep, delimiter, header, names, index_col, usecols, squeeze, prefix, mangle_dupe_cols, dtype, engine, converters, true_values, false_values, skipinitialspace, skiprows, skipfooter, nrows, na_values, keep_default_na, na_filter, verbose, skip_blank_lines, parse_dates, infer_datetime_format, keep_date_col, date_parser, dayfirst, cache_dates, iterator, chunksize, compression, thousands, decimal, lineterminator, quotechar, quoting, doublequote, escapechar, comment, encoding, encoding_errors, dialect, error_bad_lines, warn_bad_lines, on_bad_lines, delim_whitespace, low_memory, memory_map, float_precision, storage_options)\u001b[0m\n\u001b[1;32m    948\u001b[0m     \u001b[0mkwds\u001b[0m\u001b[0;34m.\u001b[0m\u001b[0mupdate\u001b[0m\u001b[0;34m(\u001b[0m\u001b[0mkwds_defaults\u001b[0m\u001b[0;34m)\u001b[0m\u001b[0;34m\u001b[0m\u001b[0;34m\u001b[0m\u001b[0m\n\u001b[1;32m    949\u001b[0m \u001b[0;34m\u001b[0m\u001b[0m\n\u001b[0;32m--> 950\u001b[0;31m     \u001b[0;32mreturn\u001b[0m \u001b[0m_read\u001b[0m\u001b[0;34m(\u001b[0m\u001b[0mfilepath_or_buffer\u001b[0m\u001b[0;34m,\u001b[0m \u001b[0mkwds\u001b[0m\u001b[0;34m)\u001b[0m\u001b[0;34m\u001b[0m\u001b[0;34m\u001b[0m\u001b[0m\n\u001b[0m\u001b[1;32m    951\u001b[0m \u001b[0;34m\u001b[0m\u001b[0m\n\u001b[1;32m    952\u001b[0m \u001b[0;34m\u001b[0m\u001b[0m\n",
            "\u001b[0;32m/usr/local/lib/python3.10/dist-packages/pandas/io/parsers/readers.py\u001b[0m in \u001b[0;36m_read\u001b[0;34m(filepath_or_buffer, kwds)\u001b[0m\n\u001b[1;32m    603\u001b[0m \u001b[0;34m\u001b[0m\u001b[0m\n\u001b[1;32m    604\u001b[0m     \u001b[0;31m# Create the parser.\u001b[0m\u001b[0;34m\u001b[0m\u001b[0;34m\u001b[0m\u001b[0m\n\u001b[0;32m--> 605\u001b[0;31m     \u001b[0mparser\u001b[0m \u001b[0;34m=\u001b[0m \u001b[0mTextFileReader\u001b[0m\u001b[0;34m(\u001b[0m\u001b[0mfilepath_or_buffer\u001b[0m\u001b[0;34m,\u001b[0m \u001b[0;34m**\u001b[0m\u001b[0mkwds\u001b[0m\u001b[0;34m)\u001b[0m\u001b[0;34m\u001b[0m\u001b[0;34m\u001b[0m\u001b[0m\n\u001b[0m\u001b[1;32m    606\u001b[0m \u001b[0;34m\u001b[0m\u001b[0m\n\u001b[1;32m    607\u001b[0m     \u001b[0;32mif\u001b[0m \u001b[0mchunksize\u001b[0m \u001b[0;32mor\u001b[0m \u001b[0miterator\u001b[0m\u001b[0;34m:\u001b[0m\u001b[0;34m\u001b[0m\u001b[0;34m\u001b[0m\u001b[0m\n",
            "\u001b[0;32m/usr/local/lib/python3.10/dist-packages/pandas/io/parsers/readers.py\u001b[0m in \u001b[0;36m__init__\u001b[0;34m(self, f, engine, **kwds)\u001b[0m\n\u001b[1;32m   1440\u001b[0m \u001b[0;34m\u001b[0m\u001b[0m\n\u001b[1;32m   1441\u001b[0m         \u001b[0mself\u001b[0m\u001b[0;34m.\u001b[0m\u001b[0mhandles\u001b[0m\u001b[0;34m:\u001b[0m \u001b[0mIOHandles\u001b[0m \u001b[0;34m|\u001b[0m \u001b[0;32mNone\u001b[0m \u001b[0;34m=\u001b[0m \u001b[0;32mNone\u001b[0m\u001b[0;34m\u001b[0m\u001b[0;34m\u001b[0m\u001b[0m\n\u001b[0;32m-> 1442\u001b[0;31m         \u001b[0mself\u001b[0m\u001b[0;34m.\u001b[0m\u001b[0m_engine\u001b[0m \u001b[0;34m=\u001b[0m \u001b[0mself\u001b[0m\u001b[0;34m.\u001b[0m\u001b[0m_make_engine\u001b[0m\u001b[0;34m(\u001b[0m\u001b[0mf\u001b[0m\u001b[0;34m,\u001b[0m \u001b[0mself\u001b[0m\u001b[0;34m.\u001b[0m\u001b[0mengine\u001b[0m\u001b[0;34m)\u001b[0m\u001b[0;34m\u001b[0m\u001b[0;34m\u001b[0m\u001b[0m\n\u001b[0m\u001b[1;32m   1443\u001b[0m \u001b[0;34m\u001b[0m\u001b[0m\n\u001b[1;32m   1444\u001b[0m     \u001b[0;32mdef\u001b[0m \u001b[0mclose\u001b[0m\u001b[0;34m(\u001b[0m\u001b[0mself\u001b[0m\u001b[0;34m)\u001b[0m \u001b[0;34m->\u001b[0m \u001b[0;32mNone\u001b[0m\u001b[0;34m:\u001b[0m\u001b[0;34m\u001b[0m\u001b[0;34m\u001b[0m\u001b[0m\n",
            "\u001b[0;32m/usr/local/lib/python3.10/dist-packages/pandas/io/parsers/readers.py\u001b[0m in \u001b[0;36m_make_engine\u001b[0;34m(self, f, engine)\u001b[0m\n\u001b[1;32m   1733\u001b[0m                 \u001b[0;32mif\u001b[0m \u001b[0;34m\"b\"\u001b[0m \u001b[0;32mnot\u001b[0m \u001b[0;32min\u001b[0m \u001b[0mmode\u001b[0m\u001b[0;34m:\u001b[0m\u001b[0;34m\u001b[0m\u001b[0;34m\u001b[0m\u001b[0m\n\u001b[1;32m   1734\u001b[0m                     \u001b[0mmode\u001b[0m \u001b[0;34m+=\u001b[0m \u001b[0;34m\"b\"\u001b[0m\u001b[0;34m\u001b[0m\u001b[0;34m\u001b[0m\u001b[0m\n\u001b[0;32m-> 1735\u001b[0;31m             self.handles = get_handle(\n\u001b[0m\u001b[1;32m   1736\u001b[0m                 \u001b[0mf\u001b[0m\u001b[0;34m,\u001b[0m\u001b[0;34m\u001b[0m\u001b[0;34m\u001b[0m\u001b[0m\n\u001b[1;32m   1737\u001b[0m                 \u001b[0mmode\u001b[0m\u001b[0;34m,\u001b[0m\u001b[0;34m\u001b[0m\u001b[0;34m\u001b[0m\u001b[0m\n",
            "\u001b[0;32m/usr/local/lib/python3.10/dist-packages/pandas/io/common.py\u001b[0m in \u001b[0;36mget_handle\u001b[0;34m(path_or_buf, mode, encoding, compression, memory_map, is_text, errors, storage_options)\u001b[0m\n\u001b[1;32m    854\u001b[0m         \u001b[0;32mif\u001b[0m \u001b[0mioargs\u001b[0m\u001b[0;34m.\u001b[0m\u001b[0mencoding\u001b[0m \u001b[0;32mand\u001b[0m \u001b[0;34m\"b\"\u001b[0m \u001b[0;32mnot\u001b[0m \u001b[0;32min\u001b[0m \u001b[0mioargs\u001b[0m\u001b[0;34m.\u001b[0m\u001b[0mmode\u001b[0m\u001b[0;34m:\u001b[0m\u001b[0;34m\u001b[0m\u001b[0;34m\u001b[0m\u001b[0m\n\u001b[1;32m    855\u001b[0m             \u001b[0;31m# Encoding\u001b[0m\u001b[0;34m\u001b[0m\u001b[0;34m\u001b[0m\u001b[0m\n\u001b[0;32m--> 856\u001b[0;31m             handle = open(\n\u001b[0m\u001b[1;32m    857\u001b[0m                 \u001b[0mhandle\u001b[0m\u001b[0;34m,\u001b[0m\u001b[0;34m\u001b[0m\u001b[0;34m\u001b[0m\u001b[0m\n\u001b[1;32m    858\u001b[0m                 \u001b[0mioargs\u001b[0m\u001b[0;34m.\u001b[0m\u001b[0mmode\u001b[0m\u001b[0;34m,\u001b[0m\u001b[0;34m\u001b[0m\u001b[0;34m\u001b[0m\u001b[0m\n",
            "\u001b[0;31mFileNotFoundError\u001b[0m: [Errno 2] No such file or directory: 'AirPassengers.csv'"
          ]
        }
      ],
      "source": [
        "from sklearn.preprocessing import MinMaxScaler\n",
        "from sklearn.metrics import mean_squared_error\n",
        "\n",
        "# Load the Air Passengers dataset\n",
        "data = pd.read_csv('AirPassengers.csv')\n",
        "time_series = data['#Passengers'].values.astype(float)\n",
        "\n",
        "# preprocess, use a scaler to scale the features to 0 and 1\n",
        "time_series = np.array(time_series).reshape(-1,1)\n",
        "scaler = MinMaxScaler(feature_range=(0, 1))\n",
        "time_series = scaler.fit_transform(time_series)\n",
        "\n",
        "# Split the data into training and testing sets\n",
        "train_data = time_series[:120]  # First 120 months for training\n",
        "test_data = time_series[120:]   # Last 24 months for testing\n",
        "\n",
        "# Function to create input sequences\n",
        "# Goal: Predict the (n+1)th point given n points\n",
        "def create_sequences(data, seq_length):\n",
        "    X = []\n",
        "    y = []\n",
        "    for i in range(len(data) - seq_length):\n",
        "        X.append(data[i:i+seq_length])\n",
        "        y.append(data[i+seq_length])\n",
        "    return np.array(X), np.array(y)\n",
        "\n",
        "# Define sequence length and create input sequences\n",
        "sequence_length = 6\n",
        "X_train, y_train = create_sequences(train_data, sequence_length)\n",
        "X_test, y_test = create_sequences(test_data, sequence_length)\n",
        "\n",
        "# Reshape the input data to be 3D (batch_size, sequence_length, num_features)\n",
        "# Standard practice!\n",
        "X_train = np.reshape(X_train, (X_train.shape[0], X_train.shape[1], 1))\n",
        "X_test = np.reshape(X_test, (X_test.shape[0], X_test.shape[1], 1))"
      ]
    },
    {
      "cell_type": "markdown",
      "id": "db7767c7",
      "metadata": {
        "id": "db7767c7"
      },
      "source": [
        "**Q2.1** Finish the following cell"
      ]
    },
    {
      "cell_type": "code",
      "execution_count": null,
      "id": "7e9db72a",
      "metadata": {
        "scrolled": false,
        "id": "7e9db72a"
      },
      "outputs": [],
      "source": [
        "# Build the LSTM model\n",
        "model = keras.Sequential([\n",
        "    keras.layers.LSTM(64, input_shape=(sequence_length, 1)),\n",
        "    keras.layers.Dense(32, activation='relu'), # Adding a dense layer with 32 units\n",
        "    keras.layers.Dense(1) # Single output neuron for regression\n",
        "])\n",
        "\n",
        "# Compile and train the model\n",
        "model.compile(loss='mean_squared_error', optimizer='adam') # Using MSE loss and Adam optimizer\n",
        "history = model.fit(x_train, y_train, epochs=10, batch_size=64, validation_split=0.2)\n"
      ]
    },
    {
      "cell_type": "markdown",
      "id": "31aebc2f",
      "metadata": {
        "id": "31aebc2f"
      },
      "source": [
        "**Q2.2** Plot the train and validation losses and and accuracies. Do not forget to add labels What can you say about the model over/underfitting? Would you continue training it, or stop earlier? Why?"
      ]
    },
    {
      "cell_type": "markdown",
      "id": "d858b1c6",
      "metadata": {
        "id": "d858b1c6"
      },
      "source": [
        "**Your text answer**"
      ]
    },
    {
      "cell_type": "code",
      "execution_count": null,
      "id": "2e3f6502",
      "metadata": {
        "id": "2e3f6502"
      },
      "outputs": [],
      "source": [
        "plt.plot(history.history['loss'], label='Training Loss')\n",
        "plt.plot(history.history['val_loss'], label='Validation Loss')\n",
        "plt.xlabel('Epochs')\n",
        "plt.ylabel('Loss')\n",
        "plt.title('Training and Validation Losses')\n",
        "plt.legend()\n",
        "plt.grid()\n",
        "plt.show()\n",
        "\n",
        "# Plot accuracies (if available, otherwise skip this part)\n",
        "plt.plot(history.history['accuracy'], label='Training Accuracy')\n",
        "plt.plot(history.history['val_accuracy'], label='Validation Accuracy')\n",
        "plt.xlabel('Epochs')\n",
        "plt.ylabel('Accuracy')\n",
        "plt.title('Training and Validation Accuracies')\n",
        "plt.legend()\n",
        "plt.grid()\n",
        "plt.show()"
      ]
    },
    {
      "cell_type": "markdown",
      "id": "f919f939",
      "metadata": {
        "id": "f919f939"
      },
      "source": [
        "Now, we can make predictions on our test set and evaluate it!\n",
        "\n",
        "**Q2.3** Finish the following cell"
      ]
    },
    {
      "cell_type": "code",
      "execution_count": null,
      "id": "9559bb91",
      "metadata": {
        "id": "9559bb91"
      },
      "outputs": [],
      "source": [
        "# Predict on the test set\n",
        "# make predictions\n",
        "train_preds = model.predict(...)\n",
        "test_preds = ...\n",
        "\n",
        "# invert predictions to make it original scale\n",
        "train_preds = scaler.inverse_transform(...)\n",
        "y_train = scaler.inverse_transform(...)\n",
        "test_preds = ...\n",
        "y_test = ...\n",
        "\n",
        "# plotting code adapted from https://www.kaggle.com/code/singhalamogh/lstm-regression-on-time-series-data\n",
        "# shift train predictions for plotting\n",
        "trainPredictPlot = np.empty_like(data)\n",
        "trainPredictPlot[:, :] = np.nan\n",
        "trainPredictPlot[sequence_length:len(train_preds) + sequence_length, :] = train_preds\n",
        "\n",
        "# shift test true data for plotting\n",
        "testTruePlot = np.empty_like(data)\n",
        "testTruePlot[:, :] = np.nan\n",
        "testTruePlot[len(train_preds)+sequence_length:len(data), :] = scaler.inverse_transform(test_data)\n",
        "\n",
        "# shift test predictions for plotting\n",
        "testPredictPlot = np.empty_like(data)\n",
        "testPredictPlot[:, :] = np.nan\n",
        "testPredictPlot[len(train_preds)+2*sequence_length:len(data), :] = test_preds\n",
        "\n",
        "# plot baseline and predictions\n",
        "colors = plt.rcParams['axes.prop_cycle'].by_key()['color']\n",
        "plt.plot(scaler.inverse_transform(train_data), color=colors[0], label=\"Train data\")\n",
        "plt.plot(testTruePlot[:,0], color=colors[1], label=\"Test data\")\n",
        "plt.plot(trainPredictPlot[:,0], color=colors[0], linestyle=\"--\", label=\"Predictions based on train data\")\n",
        "plt.plot(testPredictPlot[:,0], color=colors[1], linestyle=\"--\", label=\"Predictions based on test data\")\n",
        "plt.legend()\n",
        "plt.show()\n",
        "\n",
        "# calculate root mean squared error\n",
        "train_score = mean_squared_error(y_train, train_preds)\n",
        "print('Train Score: %.2f (MSE)' % (train_score))\n",
        "test_score = mean_squared_error(y_test, test_preds)\n",
        "print('Test Score: %.2f (MSE)' % (test_score))"
      ]
    },
    {
      "cell_type": "markdown",
      "id": "27f95144",
      "metadata": {
        "id": "27f95144"
      },
      "source": [
        "**Q2.4** Does the model do well? Write three ideas on how you would make it better. Implement at least one of these ideas and rerun your code, and report your results."
      ]
    },
    {
      "cell_type": "markdown",
      "id": "f43335a9",
      "metadata": {
        "id": "f43335a9"
      },
      "source": [
        "*Your answer here*"
      ]
    },
    {
      "cell_type": "markdown",
      "source": [
        "# Q3 NLPs\n",
        "\n",
        "The guest lecturer of week 5 will talk about natural language processing (NLPs). To prepare for this please watch the following videos and per video tell us one thing you learned.\n",
        "\n",
        "Videos\n",
        "Intro (5 minutes); https://www.youtube.com/watch?v=CMrHM8a3hqw\n",
        "\n",
        "Transform & Bert (10 minutes); https://www.youtube.com/watch?v=SZorAJ4I-sA\n",
        "\n",
        "Optional; Transform (13 minutes) (more in depth); https://www.youtube.com/watch?v=TQQlZhbC5ps"
      ],
      "metadata": {
        "id": "vL7lb8bCUioc"
      },
      "id": "vL7lb8bCUioc"
    },
    {
      "cell_type": "markdown",
      "source": [
        "NLP is a branch of AI that gives the machines the ability read, understand and to write meaning from human languages.\n",
        "Transformers are a type of neural network architecture.\n",
        "Transformers:\n",
        "  - Positioning Encoding\n",
        "  - Attention\n",
        "  - Self - Attention"
      ],
      "metadata": {
        "id": "DLf5MNAOU4KB"
      },
      "id": "DLf5MNAOU4KB"
    },
    {
      "cell_type": "code",
      "source": [],
      "metadata": {
        "id": "Q5o3mktNuCa0"
      },
      "id": "Q5o3mktNuCa0",
      "execution_count": null,
      "outputs": []
    }
  ],
  "metadata": {
    "kernelspec": {
      "display_name": "Python 3 (ipykernel)",
      "language": "python",
      "name": "python3"
    },
    "language_info": {
      "codemirror_mode": {
        "name": "ipython",
        "version": 3
      },
      "file_extension": ".py",
      "mimetype": "text/x-python",
      "name": "python",
      "nbconvert_exporter": "python",
      "pygments_lexer": "ipython3",
      "version": "3.10.7"
    },
    "colab": {
      "provenance": []
    }
  },
  "nbformat": 4,
  "nbformat_minor": 5
}